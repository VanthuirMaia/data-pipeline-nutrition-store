{
 "cells": [
  {
   "cell_type": "markdown",
   "id": "454283c2",
   "metadata": {},
   "source": [
    "# Notebook 04 - Análise Exploratória (EDA)\n",
    "Objetivo: gerar análises e visualizações de negócio a partir do dataset final de suplementos.\n"
   ]
  },
  {
   "cell_type": "code",
   "execution_count": 4,
   "id": "47d79b44",
   "metadata": {},
   "outputs": [],
   "source": [
    "import pandas as pd\n",
    "import matplotlib.pyplot as plt\n",
    "import seaborn as sns\n",
    "\n",
    "df = pd.read_csv(\"../data/DT_Store_Suplements_final.csv\")\n"
   ]
  },
  {
   "cell_type": "code",
   "execution_count": 6,
   "id": "4a2858e4",
   "metadata": {},
   "outputs": [
    {
     "name": "stdout",
     "output_type": "stream",
     "text": [
      "<class 'pandas.core.frame.DataFrame'>\n",
      "RangeIndex: 942 entries, 0 to 941\n",
      "Data columns (total 9 columns):\n",
      " #   Column      Non-Null Count  Dtype  \n",
      "---  ------      --------------  -----  \n",
      " 0   ID_Venda    942 non-null    int64  \n",
      " 1   Cliente     942 non-null    object \n",
      " 2   Produto     942 non-null    object \n",
      " 3   Marca       942 non-null    object \n",
      " 4   Preco       942 non-null    float64\n",
      " 5   Quantidade  942 non-null    float64\n",
      " 6   Data_Venda  942 non-null    object \n",
      " 7   Pagamento   942 non-null    object \n",
      " 8   Loja        942 non-null    object \n",
      "dtypes: float64(2), int64(1), object(6)\n",
      "memory usage: 66.4+ KB\n"
     ]
    }
   ],
   "source": [
    "df.info()"
   ]
  },
  {
   "cell_type": "markdown",
   "id": "cd12b2e6",
   "metadata": {},
   "source": [
    "## Qtd total de vendas"
   ]
  },
  {
   "cell_type": "code",
   "execution_count": 7,
   "id": "cdd5a030",
   "metadata": {},
   "outputs": [
    {
     "data": {
      "text/plain": [
       "np.float64(244622.94999999998)"
      ]
     },
     "execution_count": 7,
     "metadata": {},
     "output_type": "execute_result"
    }
   ],
   "source": [
    "df[\"Receita\"] = df[\"Preco\"] * df[\"Quantidade\"]\n",
    "\n",
    "df[\"Receita\"].sum()"
   ]
  },
  {
   "cell_type": "markdown",
   "id": "0b076e0c",
   "metadata": {},
   "source": [
    "### Aqui foi criada uma nova coluna, chamada Receita. \n",
    "### Nela, esta o cálculo do Preço x Quantidade\n",
    "### Por fim, feita a soma total da nova coluna Receita"
   ]
  },
  {
   "cell_type": "markdown",
   "id": "980abfbc",
   "metadata": {},
   "source": [
    "## Top 5 Produtos mais vendidos em quantidade\n"
   ]
  },
  {
   "cell_type": "code",
   "execution_count": 8,
   "id": "b7ea02ee",
   "metadata": {},
   "outputs": [
    {
     "data": {
      "text/plain": [
       "Produto\n",
       "multivitaminico    252.0\n",
       "bcaa               228.0\n",
       "whey protein       207.0\n",
       "barra proteica     196.0\n",
       "glutamina          194.0\n",
       "Name: Quantidade, dtype: float64"
      ]
     },
     "execution_count": 8,
     "metadata": {},
     "output_type": "execute_result"
    }
   ],
   "source": [
    "df.groupby(\"Produto\")[\"Quantidade\"].sum().sort_values(ascending=False).head(5)"
   ]
  },
  {
   "cell_type": "markdown",
   "id": "a8c7a80f",
   "metadata": {},
   "source": [
    "## Top produtos em faturamento"
   ]
  },
  {
   "cell_type": "code",
   "execution_count": 9,
   "id": "b63b14c9",
   "metadata": {},
   "outputs": [
    {
     "data": {
      "text/plain": [
       "Produto\n",
       "multivitaminico    36413.76\n",
       "bcaa               31066.42\n",
       "barra proteica     27727.56\n",
       "glutamina          26799.55\n",
       "omega 3            22422.12\n",
       "Name: Receita, dtype: float64"
      ]
     },
     "execution_count": 9,
     "metadata": {},
     "output_type": "execute_result"
    }
   ],
   "source": [
    "df.groupby(\"Produto\")[\"Receita\"].sum().sort_values(ascending=False).head(5)"
   ]
  },
  {
   "cell_type": "markdown",
   "id": "967daed1",
   "metadata": {},
   "source": [
    "## Marcas que mais faturam"
   ]
  },
  {
   "cell_type": "code",
   "execution_count": 11,
   "id": "fb3bd802",
   "metadata": {},
   "outputs": [
    {
     "data": {
      "text/plain": [
       "Marca\n",
       "atlhetica nutrition    29621.83\n",
       "probiotica             27092.98\n",
       "optimum nutrition      25635.89\n",
       "midway                 25029.66\n",
       "integralmedica         24283.28\n",
       "Name: Receita, dtype: float64"
      ]
     },
     "execution_count": 11,
     "metadata": {},
     "output_type": "execute_result"
    }
   ],
   "source": [
    "df.groupby(\"Marca\")[\"Receita\"].sum().sort_values(ascending=False).head(5)\n"
   ]
  },
  {
   "cell_type": "markdown",
   "id": "adc30401",
   "metadata": {},
   "source": [
    "## Formas de Pagamento"
   ]
  },
  {
   "cell_type": "code",
   "execution_count": 10,
   "id": "07979aba",
   "metadata": {},
   "outputs": [
    {
     "data": {
      "text/plain": [
       "Pagamento\n",
       "Cartao           22.399151\n",
       "Não informado    20.700637\n",
       "Pix              19.639066\n",
       "Dinheiro         18.683652\n",
       "Cartão           18.577495\n",
       "Name: proportion, dtype: float64"
      ]
     },
     "execution_count": 10,
     "metadata": {},
     "output_type": "execute_result"
    }
   ],
   "source": [
    "df[\"Pagamento\"].value_counts(normalize=True) * 100"
   ]
  },
  {
   "cell_type": "markdown",
   "id": "07d61d4c",
   "metadata": {},
   "source": [
    "## Comparação entre lojas"
   ]
  },
  {
   "cell_type": "code",
   "execution_count": 12,
   "id": "cd85851c",
   "metadata": {},
   "outputs": [
    {
     "data": {
      "text/plain": [
       "Loja\n",
       "Filial A         59300.34\n",
       "Loja 1           53375.95\n",
       "Loja 2           69787.97\n",
       "Não informado    62158.69\n",
       "Name: Receita, dtype: float64"
      ]
     },
     "execution_count": 12,
     "metadata": {},
     "output_type": "execute_result"
    }
   ],
   "source": [
    "df.groupby(\"Loja\")[\"Receita\"].sum()\n"
   ]
  }
 ],
 "metadata": {
  "kernelspec": {
   "display_name": ".venv",
   "language": "python",
   "name": "python3"
  },
  "language_info": {
   "codemirror_mode": {
    "name": "ipython",
    "version": 3
   },
   "file_extension": ".py",
   "mimetype": "text/x-python",
   "name": "python",
   "nbconvert_exporter": "python",
   "pygments_lexer": "ipython3",
   "version": "3.12.1"
  }
 },
 "nbformat": 4,
 "nbformat_minor": 5
}
