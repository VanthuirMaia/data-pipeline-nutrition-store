{
 "cells": [
  {
   "cell_type": "markdown",
   "id": "0dc9eebd",
   "metadata": {},
   "source": [
    "# Notebook 03 - Padronização de Dados\n",
    "Objetivo: padronizar textos em Produto e Marca, corrigir inconsistências e preparar a base para análises."
   ]
  },
  {
   "cell_type": "code",
   "execution_count": 13,
   "id": "50987a92",
   "metadata": {},
   "outputs": [],
   "source": [
    "log_tratamento = []  # Log de tratamento de dados"
   ]
  },
  {
   "cell_type": "code",
   "execution_count": 1,
   "id": "fa02458d",
   "metadata": {},
   "outputs": [],
   "source": [
    "import pandas as pd\n",
    "\n",
    "df = pd.read_csv(\"../data/DT_Store_Suplements_clean.csv\")"
   ]
  },
  {
   "cell_type": "markdown",
   "id": "1a1b0541",
   "metadata": {},
   "source": [
    "## Normalizando textos\n",
    "\n",
    "### Removendo espaçoes extras"
   ]
  },
  {
   "cell_type": "code",
   "execution_count": 3,
   "id": "cd1f87c2",
   "metadata": {},
   "outputs": [],
   "source": [
    "df[\"Produto\"] = df[\"Produto\"].str.strip()\n",
    "df[\"Marca\"] = df[\"Marca\"].str.strip()"
   ]
  },
  {
   "cell_type": "markdown",
   "id": "a73c286c",
   "metadata": {},
   "source": [
    "### Transformando tudo em minúsculo"
   ]
  },
  {
   "cell_type": "code",
   "execution_count": 4,
   "id": "a985de02",
   "metadata": {},
   "outputs": [],
   "source": [
    "df[\"Produto\"] = df[\"Produto\"].str.lower()\n",
    "df[\"Marca\"] = df[\"Marca\"].str.lower()"
   ]
  },
  {
   "cell_type": "markdown",
   "id": "78ebe125",
   "metadata": {},
   "source": [
    "### Corrigir abreviações conhecidas "
   ]
  },
  {
   "cell_type": "code",
   "execution_count": 5,
   "id": "23888571",
   "metadata": {},
   "outputs": [],
   "source": [
    "df[\"Produto\"] = df[\"Produto\"].replace({\n",
    "    \"whey\": \"whey protein\",\n",
    "    \"creat\": \"creatina\"\n",
    "})\n",
    "df[\"Marca\"] = df[\"Marca\"].replace({\n",
    "    \"growth\": \"growth supplements\",\n",
    "    \"max\": \"max titanium\"\n",
    "})\n"
   ]
  },
  {
   "cell_type": "markdown",
   "id": "7b9d6533",
   "metadata": {},
   "source": [
    "### Removendo acentos e caracteres especiais"
   ]
  },
  {
   "cell_type": "code",
   "execution_count": 6,
   "id": "97ecff41",
   "metadata": {},
   "outputs": [],
   "source": [
    "import unidecode\n",
    "df[\"Produto\"] = df[\"Produto\"].apply(lambda x: unidecode.unidecode(x))\n",
    "df[\"Marca\"] = df[\"Marca\"].apply(lambda x: unidecode.unidecode(x))\n"
   ]
  },
  {
   "cell_type": "markdown",
   "id": "a087e96c",
   "metadata": {},
   "source": [
    "## Conferindo valores únicos"
   ]
  },
  {
   "cell_type": "code",
   "execution_count": 7,
   "id": "94316fcc",
   "metadata": {},
   "outputs": [
    {
     "data": {
      "text/plain": [
       "array(['creatina', 'pre-treino', 'bcaa', 'omega 3', 'hipercalorico',\n",
       "       'glutamina', 'barra proteica', 'multivitaminico', 'whey protein',\n",
       "       'albumina'], dtype=object)"
      ]
     },
     "execution_count": 7,
     "metadata": {},
     "output_type": "execute_result"
    }
   ],
   "source": [
    "df[\"Produto\"].unique()\n"
   ]
  },
  {
   "cell_type": "code",
   "execution_count": 10,
   "id": "636581fb",
   "metadata": {},
   "outputs": [
    {
     "data": {
      "text/plain": [
       "array(['integralmedica', 'atlhetica nutrition', 'midway',\n",
       "       'optimum nutrition', 'black skull', 'universal', 'probiotica',\n",
       "       'growth supplements', 'bodyaction', 'max titanium', 'on',\n",
       "       'atlhetica'], dtype=object)"
      ]
     },
     "execution_count": 10,
     "metadata": {},
     "output_type": "execute_result"
    }
   ],
   "source": [
    "df[\"Marca\"].unique()"
   ]
  },
  {
   "cell_type": "code",
   "execution_count": 9,
   "id": "aa00dd98",
   "metadata": {},
   "outputs": [],
   "source": [
    "df[\"Marca\"] = df[\"Marca\"].str.replace(\"@\", \"a\", regex=False)\n"
   ]
  },
  {
   "cell_type": "code",
   "execution_count": 15,
   "id": "cb3e1ff7",
   "metadata": {},
   "outputs": [],
   "source": [
    "log_tratamento.append(\"Padronizados nomes em Produto e Marca (remoção de espaços, caixa baixa, substituições).\")\n",
    "log_tratamento.append(\"Corrigidos caracteres inválidos em Marca: substituído '@' por 'a'.\")\n",
    "\n",
    "\n"
   ]
  }
 ],
 "metadata": {
  "kernelspec": {
   "display_name": ".venv",
   "language": "python",
   "name": "python3"
  },
  "language_info": {
   "codemirror_mode": {
    "name": "ipython",
    "version": 3
   },
   "file_extension": ".py",
   "mimetype": "text/x-python",
   "name": "python",
   "nbconvert_exporter": "python",
   "pygments_lexer": "ipython3",
   "version": "3.12.1"
  }
 },
 "nbformat": 4,
 "nbformat_minor": 5
}
