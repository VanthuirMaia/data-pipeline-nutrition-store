{
 "cells": [
  {
   "cell_type": "markdown",
   "id": "cde121d6",
   "metadata": {},
   "source": [
    "# Notebook 02 - Tratamento de Dados\n",
    "Este notebook aplica as primeiras etapas de limpeza e padronização no dataset."
   ]
  },
  {
   "cell_type": "code",
   "execution_count": 8,
   "id": "e010744f",
   "metadata": {},
   "outputs": [],
   "source": [
    "log_tratamento = []\n",
    "log_tratamento.append(\"Início do tratamento de dados\")"
   ]
  },
  {
   "cell_type": "code",
   "execution_count": 1,
   "id": "7548f313",
   "metadata": {},
   "outputs": [],
   "source": [
    "import pandas as pd\n",
    "\n",
    "df = pd.read_csv(\"../data/DT_Store_Suplements.csv\")"
   ]
  },
  {
   "cell_type": "markdown",
   "id": "4153940e",
   "metadata": {},
   "source": [
    "## 2. Tratamento de Valores Nulos\n",
    "### Produto"
   ]
  },
  {
   "cell_type": "code",
   "execution_count": null,
   "id": "5575635e",
   "metadata": {},
   "outputs": [],
   "source": [
    "df = df.dropna(subset=[\"Produto\"])\n",
    "log_tratamento.append(\"Removidos 32 registros nulos em Produto (3.2% da base)\")"
   ]
  },
  {
   "cell_type": "code",
   "execution_count": 27,
   "id": "ddb1f8cc",
   "metadata": {},
   "outputs": [
    {
     "data": {
      "text/plain": [
       "ID_Venda      0.0\n",
       "Cliente       0.0\n",
       "Produto       0.0\n",
       "Marca         0.0\n",
       "Preco         0.0\n",
       "Quantidade    0.0\n",
       "Data_Venda    0.0\n",
       "Pagamento     0.0\n",
       "Loja          0.0\n",
       "dtype: float64"
      ]
     },
     "execution_count": 27,
     "metadata": {},
     "output_type": "execute_result"
    }
   ],
   "source": [
    "(df.isnull().sum() / len(df)) * 100"
   ]
  },
  {
   "cell_type": "code",
   "execution_count": 12,
   "id": "d5876365",
   "metadata": {},
   "outputs": [],
   "source": [
    "df = df.dropna(subset=[\"Marca\"])\n",
    "log_tratamento.append(\"Removidos 27 registros nulos em Marca (2.7% da base)\")"
   ]
  },
  {
   "cell_type": "code",
   "execution_count": 18,
   "id": "a9447038",
   "metadata": {},
   "outputs": [
    {
     "data": {
      "text/plain": [
       "array([ 2., nan,  3.,  1.])"
      ]
     },
     "execution_count": 18,
     "metadata": {},
     "output_type": "execute_result"
    }
   ],
   "source": [
    "df[\"Quantidade\"].unique()\n"
   ]
  },
  {
   "cell_type": "code",
   "execution_count": 17,
   "id": "9395c586",
   "metadata": {},
   "outputs": [],
   "source": [
    "df[\"Quantidade\"] = df[\"Quantidade\"].replace({\n",
    "    \"duas\": 2,\n",
    "})\n",
    "\n",
    "df[\"Quantidade\"] = pd.to_numeric(df[\"Quantidade\"], errors=\"coerce\")\n"
   ]
  },
  {
   "cell_type": "code",
   "execution_count": 22,
   "id": "a21f4977",
   "metadata": {},
   "outputs": [],
   "source": [
    "# 3. Substituir Quantidade nula pela mediana\n",
    "mediana = df[\"Quantidade\"].median()\n",
    "nulos_qtd = df[\"Quantidade\"].isna().sum()   # conta antes\n",
    "df[\"Quantidade\"] = df[\"Quantidade\"].fillna(mediana)\n",
    "log_tratamento.append(f\"Substituídos {nulos_qtd} valores nulos em Quantidade pela mediana ({mediana})\")\n"
   ]
  },
  {
   "cell_type": "code",
   "execution_count": 26,
   "id": "9aa82e06",
   "metadata": {},
   "outputs": [],
   "source": [
    "nulos_pag = df[\"Pagamento\"].isna().sum()\n",
    "df[\"Pagamento\"] = df[\"Pagamento\"].fillna(\"Não informado\")\n",
    "log_tratamento.append(f\"Substituídos {nulos_pag} valores nulos em Pagamento por 'Não informado'\")\n"
   ]
  },
  {
   "cell_type": "code",
   "execution_count": 24,
   "id": "b28ad0df",
   "metadata": {},
   "outputs": [],
   "source": [
    "nulos_loja = df[\"Loja\"].isna().sum()\n",
    "df[\"Loja\"] = df[\"Loja\"].fillna(\"Não informado\")\n",
    "log_tratamento.append(f\"Substituídos {nulos_loja} valores nulos em Loja por 'Não informado'\")\n"
   ]
  },
  {
   "cell_type": "code",
   "execution_count": 28,
   "id": "7fe11087",
   "metadata": {},
   "outputs": [],
   "source": [
    "df.to_csv(\"../data/DT_Store_Suplements_clean.csv\", index=False)"
   ]
  },
  {
   "cell_type": "code",
   "execution_count": 29,
   "id": "fa4b59c3",
   "metadata": {},
   "outputs": [],
   "source": [
    "with open(\"../docs/tratamento.md\", \"w\", encoding=\"utf-8\") as f:\n",
    "    f.write(\"# Relatório de Tratamento de Dados\\n\\n\")\n",
    "    for item in log_tratamento:\n",
    "        f.write(f\"- {item}\\n\")\n"
   ]
  }
 ],
 "metadata": {
  "kernelspec": {
   "display_name": ".venv",
   "language": "python",
   "name": "python3"
  },
  "language_info": {
   "codemirror_mode": {
    "name": "ipython",
    "version": 3
   },
   "file_extension": ".py",
   "mimetype": "text/x-python",
   "name": "python",
   "nbconvert_exporter": "python",
   "pygments_lexer": "ipython3",
   "version": "3.12.1"
  }
 },
 "nbformat": 4,
 "nbformat_minor": 5
}
